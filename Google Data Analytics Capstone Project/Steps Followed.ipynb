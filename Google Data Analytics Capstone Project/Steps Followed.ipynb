{
 "cells": [
  {
   "attachments": {},
   "cell_type": "markdown",
   "metadata": {},
   "source": [
    "# About the Company \n",
    "\n",
    "In 2016, Cyclistic launched a successful bike-share offering. Since then, the program has grown to a fleet of 5,824 bicycles that are geotracked and locked into a network of 692 stations across Chicago. The bikes can be unlocked from one station and returned to any other station in the system anytime.\n",
    "\n",
    "Until now, Cyclistic’s marketing strategy relied on building general awareness and appealing to broad consumer segments. One approach that helped make these things possible was the flexibility of its pricing plans: single-ride passes, full-day passes, and annual memberships. Customers who purchase single-ride or full-day passes are referred to as casual riders. Customers who purchase annual memberships are Cyclistic members.\n",
    "\n",
    "Cyclistic’s finance analysts have concluded that annual members are much more profitable than casual riders. Although the pricing flexibility helps Cyclistic attract more customers, Moreno believes that maximizing the number of annual members will be key to future growth. Rather than creating a marketing campaign that targets all-new customers, Moreno believes there is a very good chance to convert casual riders into members. She notes that casual riders are already aware of the Cyclistic program and have chosen Cyclistic for their mobility needs.\n",
    "\n",
    "Moreno has set a clear goal: Design marketing strategies aimed at converting casual riders into annual members. In order to do that, however, the marketing analyst team needs to better understand how annual members and casual riders differ, why casual riders would buy a membership, and how digital media could affect their marketing tactics. Moreno and her team are interested in analyzing the Cyclistic historical bike trip data to identify trends.\n"
   ]
  },
  {
   "attachments": {},
   "cell_type": "markdown",
   "metadata": {},
   "source": [
    "# Ask\n",
    "\n",
    "### Three questions will guide the future marketing program:\n",
    "1. How do annual members and casual riders use Cyclistic bikes differently?\n",
    "2. Why would casual riders buy Cyclistic annual memberships?\n",
    "3. How can Cyclistic use digital media to influence casual riders to become members?"
   ]
  },
  {
   "attachments": {},
   "cell_type": "markdown",
   "metadata": {},
   "source": [
    "# Prepare\n",
    "\n",
    "### For this project, I am using 4 months of data, January 2023 to April 2023.\n",
    "\n",
    "The data needs to be: \n",
    "\n",
    "Reliable - The data is indeed complete and unbiased.\n",
    "\n",
    "Original - Yes , we have the public source.\n",
    "\n",
    "Comprehensive - All the data is fully complete and thorough.\n",
    "\n",
    "Current - The data gets updates all the time.\n",
    "\n",
    "Cited - Yes.\n",
    "\n",
    "\n"
   ]
  },
  {
   "attachments": {},
   "cell_type": "markdown",
   "metadata": {},
   "source": [
    "#### All the files are in CSV Format and ordered by year and month with the same 13 columns names :\n",
    "\n",
    "ride_id\n",
    "\n",
    "rideable_type\n",
    "\n",
    "started_at\n",
    "\n",
    "ended_at\n",
    "\n",
    "start_station_name\n",
    "\n",
    "start_station_id\n",
    "\n",
    "end_station_name\n",
    "\n",
    "end_station_id\n",
    "\n",
    "start_lat\n",
    "\n",
    "start_lng\n",
    "\n",
    "end_lat\n",
    "\n",
    "end_lng\n",
    "\n",
    "member_casual\n",
    "\n",
    "\n",
    "##### It is to be noted that some of the cells are NULL and would need to be removed during Data Processing\n"
   ]
  },
  {
   "attachments": {},
   "cell_type": "markdown",
   "metadata": {},
   "source": []
  },
  {
   "attachments": {},
   "cell_type": "markdown",
   "metadata": {},
   "source": [
    "# Process\n",
    "\n",
    "\n",
    "## All Steps have been performed in Big Query Sandbox \n",
    "\n",
    "1. The 4 csv files were uploaded to BigQuery into my Dataset with ID --> data-analytics-cert-20082023.ride_share"
   ]
  },
  {
   "cell_type": "code",
   "execution_count": null,
   "metadata": {},
   "outputs": [],
   "source": [
    "SELECT * FROM `data-analytics-cert-20082023.ride_share.202301-divvy-tripdata` UNION ALL\n",
    "SELECT * FROM `data-analytics-cert-20082023.ride_share.202302-divvy-tripdata` UNION ALL\n",
    "SELECT * FROM `data-analytics-cert-20082023.ride_share.202303-divvy-tripdata` UNION ALL\n",
    "SELECT * FROM `data-analytics-cert-20082023.ride_share.202304-divvy-tripdata`;\n"
   ]
  },
  {
   "attachments": {},
   "cell_type": "markdown",
   "metadata": {},
   "source": [
    "2. The resultant table is named total_trip_data and has \"1,066,014\" number of rows.\n"
   ]
  },
  {
   "attachments": {},
   "cell_type": "markdown",
   "metadata": {},
   "source": [
    "3. The following code was then run to analyze the data."
   ]
  },
  {
   "cell_type": "code",
   "execution_count": null,
   "metadata": {},
   "outputs": [],
   "source": [
    "SELECT * FROM `data-analytics-cert-20082023.ride_share.total_trip_data` LIMIT 1000"
   ]
  },
  {
   "attachments": {},
   "cell_type": "markdown",
   "metadata": {},
   "source": [
    "4. The data had some rows with NULL data and as such to delete in the sandbox version of Bigquery I ran the following: "
   ]
  },
  {
   "cell_type": "code",
   "execution_count": null,
   "metadata": {},
   "outputs": [],
   "source": [
    "SELECT * \n",
    "FROM `data-analytics-cert-20082023.ride_share.total_trip_data`\n",
    "WHERE ride_id IS NOT NULL\n",
    "AND rideable_type IS NOT NULL\n",
    "AND started_at IS NOT NULL\n",
    "AND ended_at IS NOT NULL\n",
    "AND start_station_name IS NOT NULL\n",
    "AND start_station_id IS NOT NULL\n",
    "AND end_station_name IS NOT NULL\n",
    "AND end_station_id IS NOT NULL\n",
    "AND start_lat IS NOT NULL\n",
    "AND start_lng IS NOT NULL\n",
    "AND end_lat IS NOT NULL\n",
    "AND end_lng IS NOT NULL\n",
    "AND member_casual IS NOT NULL;\n"
   ]
  },
  {
   "attachments": {},
   "cell_type": "markdown",
   "metadata": {},
   "source": [
    "5. The data was now reduced to 822488 rows and was saved as total_trip_data_without_NULL_rows"
   ]
  },
  {
   "attachments": {},
   "cell_type": "markdown",
   "metadata": {},
   "source": [
    "6. I ran a check for duplicates using SQL (This is easier to do in Excel in this case but just to practice SQL, I have made sure to do all the steps in SQL)"
   ]
  },
  {
   "cell_type": "code",
   "execution_count": null,
   "metadata": {},
   "outputs": [],
   "source": [
    "SELECT COUNT (DISTINCT ride_id)\n",
    "FROM `data-analytics-cert-20082023.ride_share.total_trip_data_without_NULL_rows`  ;\n",
    "\n",
    "SELECT COUNT (DISTINCT rideable_type)\n",
    "FROM `data-analytics-cert-20082023.ride_share.total_trip_data_without_NULL_rows` ;\n",
    "\n",
    "SELECT COUNT (DISTINCT member_casual)\n",
    "FROM `data-analytics-cert-20082023.ride_share.total_trip_data_without_NULL_rows` ;\n",
    "\n",
    "SELECT COUNT (member_casual)\n",
    "FROM `data-analytics-cert-20082023.ride_share.total_trip_data_without_NULL_rows`\n",
    "WHERE member_casual='casual';\n",
    "\n",
    "SELECT COUNT (member_casual)\n",
    "FROM `data-analytics-cert-20082023.ride_share.total_trip_data_without_NULL_rows`\n",
    "WHERE member_casual='member';"
   ]
  },
  {
   "attachments": {},
   "cell_type": "markdown",
   "metadata": {},
   "source": [
    "7. The Results are \n",
    "- 822488\n",
    "- 3\n",
    "- 2\n",
    "- 219727\n",
    "- 602761\n",
    "\n",
    "respectively."
   ]
  },
  {
   "attachments": {},
   "cell_type": "markdown",
   "metadata": {},
   "source": []
  },
  {
   "attachments": {},
   "cell_type": "markdown",
   "metadata": {},
   "source": [
    "# Analyze\n",
    "\n",
    "1. The following query was run to create day of week, month, trip duration columns to help me analyze the data better."
   ]
  },
  {
   "cell_type": "code",
   "execution_count": null,
   "metadata": {},
   "outputs": [],
   "source": [
    "SELECT started_at,\n",
    "CASE\n",
    "    WHEN EXTRACT(DAYOFWEEK from started_at) = 1 THEN 'Sun'\n",
    "    WHEN EXTRACT(DAYOFWEEK from started_at) = 2 THEN 'Mon'\n",
    "    WHEN EXTRACT(DAYOFWEEK from started_at) = 3 THEN 'Tues'\n",
    "    WHEN EXTRACT(DAYOFWEEK from started_at) = 4 THEN 'Wed'\n",
    "    WHEN EXTRACT(DAYOFWEEK from started_at) = 5 THEN 'Thur'\n",
    "    WHEN EXTRACT(DAYOFWEEK from started_at) = 6 THEN 'Fri'\n",
    "  ELSE 'Sat'\n",
    "END AS day_of_week\n",
    "FROM `data-analytics-cert-20082023.ride_share.total_trip_data_without_NULL_rows`;\n",
    "\n",
    "SELECT started_at,\n",
    "CASE\n",
    "    WHEN EXTRACT(MONTH FROM started_at) = 1 THEN 'Jan'\n",
    "    WHEN EXTRACT(MONTH FROM started_at) = 2 THEN 'Feb'\n",
    "    WHEN EXTRACT(MONTH FROM started_at) = 3 THEN 'Mar'\n",
    "    WHEN EXTRACT(MONTH FROM started_at) = 4 THEN 'Apr'\n",
    "    WHEN EXTRACT(MONTH FROM started_at) = 5 THEN 'May'\n",
    "    WHEN EXTRACT(MONTH FROM started_at) = 6 THEN 'Jun'\n",
    "    WHEN EXTRACT(MONTH FROM started_at) = 7 THEN 'Jul'\n",
    "    WHEN EXTRACT(MONTH FROM started_at) = 8 THEN 'Aug'\n",
    "    WHEN EXTRACT(MONTH FROM started_at) = 9 THEN 'Sep'\n",
    "    WHEN EXTRACT(MONTH FROM started_at) = 10 THEN 'Oct'\n",
    "    WHEN EXTRACT(MONTH FROM started_at) = 11 THEN 'Nov'\n",
    "  ELSE 'Dec'\n",
    "END AS month,\n",
    "FROM `data-analytics-cert-20082023.ride_share.total_trip_data_without_NULL_rows`;\n",
    "\n",
    "SELECT * ,\n",
    "DATE_DIFF(ended_at , started_at , minute) AS trip_duration\n",
    "FROM `data-analytics-cert-20082023.ride_share.total_trip_data_without_NULL_rows`;\n",
    "\n"
   ]
  },
  {
   "attachments": {},
   "cell_type": "markdown",
   "metadata": {},
   "source": [
    "2. I then found the following using the below queries:\n",
    "- Average Trip Duration for Casual Members --> 19.093156507848168\n",
    "\n",
    "SELECT AVG (trip_duration) AS avg_trip_duration <br>\n",
    "FROM `data-analytics-cert-20082023.ride_share.new_trip_data_set`<br>\n",
    "WHERE member_casual = 'casual';<br>\n",
    "\n",
    "- Average Trip Duration for Members --> 10.190745585729132\n",
    "\n",
    "SELECT AVG (trip_duration) AS avg_trip_duration<br>\n",
    "FROM `data-analytics-cert-20082023.ride_share.new_trip_data_set`<br>\n",
    "WHERE member_casual = 'member';<br>\n",
    "<br>\n",
    "- Casual Members have the most rides on --> Saturday <br>\n",
    "Results --> <img width=\"397\" alt=\"image\" src=\"https://github.com/realgauravmehta/Google-Data-Analytics-Professional-Certificate/assets/60063158/fb926e84-b4c0-4334-9497-e22d6a34791c\">\n",
    "\n",
    "\n",
    "SELECT COUNT(*) AS Casual , day_of_week<br>\n",
    "FROM `data-analytics-cert-20082023.ride_share.new_trip_data_set`<br>\n",
    "WHERE member_casual = 'casual'<br>\n",
    "GROUP BY 2<br>\n",
    "ORDER BY 1 DESC;<br>\n",
    "\n",
    "- Members have the most rides on --> Tuesday<br>\n",
    "Results -->  <img width=\"397\" alt=\"image\" src=\"https://github.com/realgauravmehta/Google-Data-Analytics-Professional-Certificate/assets/60063158/545c9ab5-5f99-4784-abb1-54cbb6d9a3d7\"><br>\n",
    "\n",
    "SELECT COUNT(*) AS Members , day_of_week<br>\n",
    "FROM `data-analytics-cert-20082023.ride_share.new_trip_data_set`<br>\n",
    "WHERE member_casual = 'member'<br>\n",
    "GROUP BY 2<br>\n",
    "ORDER BY 1 DESC;<br>\n",
    "\n",
    "- Most Popular Month --> April <br>\n",
    "Results --> <img width=\"397\" alt=\"image\" src=\"https://github.com/realgauravmehta/Google-Data-Analytics-Professional-Certificate/assets/60063158/079639e0-3f8d-4281-880a-84c1c6488148\"><br>\n",
    "\n",
    "SELECT COUNT(*) AS Members , month<br>\n",
    "FROM `data-analytics-cert-20082023.ride_share.new_trip_data_set`<br>\n",
    "GROUP BY 2<br>\n",
    "ORDER BY 1 DESC;<br>\n",
    "\n",
    "- Most Popular Bike --> The Classic Bike is still the most popular followed by the Electric Bike<br>\n",
    "Results --> <img width=\"397\" alt=\"image\" src=\"https://github.com/realgauravmehta/Google-Data-Analytics-Professional-Certificate/assets/60063158/be4c7245-5792-4212-9180-986c26cc0b89\"><br>\n",
    "\n",
    "SELECT COUNT(*) AS Members , rideable_type<br>\n",
    "FROM `data-analytics-cert-20082023.ride_share.new_trip_data_set`<br>\n",
    "GROUP BY 2<br>\n",
    "ORDER BY 1 DESC;<br>\n",
    "\n",
    "- Most Popular Route for Casual Members is Streeter Dr & Grand Ave and DuSable Lake Shore Dr & Monroe St.<br>\n",
    "\n",
    "Results --> <img width=\"806\" alt=\"image\" src=\"https://github.com/realgauravmehta/Google-Data-Analytics-Professional-Certificate/assets/60063158/56e6a789-f137-4ced-8da2-b42a369a58c8\"><br>\n",
    "\n",
    "SELECT COUNT(member_casual) AS casual_per_route, start_station_name, end_station_name, member_casual<br>\n",
    "FROM `data-analytics-cert-20082023.ride_share.new_trip_data_set`<br>\n",
    "WHERE member_casual ='casual'<br>\n",
    "GROUP BY start_station_name, end_station_name, member_casual<br>\n",
    "ORDER BY 1 DESC<br>\n",
    "LIMIT 5;<br>\n",
    "\n",
    "- Most Popular Route for Members is Ellis Ave & 60th St and University Ave & 57th St.<br>\n",
    "\n",
    "Results --> <img width=\"806\" alt=\"image\" src=\"https://github.com/realgauravmehta/Google-Data-Analytics-Professional-Certificate/assets/60063158/0aa3833f-07db-465e-8008-786bd543c91d\"><br>\n",
    "\n",
    "\n",
    "SELECT DISTINCT COUNT(member_casual) AS member_per_route, start_station_name, end_station_name, member_casual<br>\n",
    "FROM `data-analytics-cert-20082023.ride_share.new_trip_data_set`<br>\n",
    "WHERE member_casual ='member'<br>\n",
    "GROUP BY start_station_name, end_station_name, member_casual<br>\n",
    "ORDER BY 1 DESC<br>\n",
    "LIMIT 5;<br>"
   ]
  },
  {
   "attachments": {},
   "cell_type": "markdown",
   "metadata": {},
   "source": [
    "# Share"
   ]
  },
  {
   "attachments": {},
   "cell_type": "markdown",
   "metadata": {},
   "source": [
    "### For the share phase I have used Tableau to present my Findings\n",
    "\n",
    "\n",
    "- Cyclists increase during summer months and are lesser during the winter months. \n",
    "- As such, advertising in and around the popular stations can be carried out during spring and summer months to increase the customer count\n",
    "- Special Deals could be made for members who bring the casual riders into annual membership\n",
    "- Casual riders prefer the weekends while Members prefer the Weekdays \n",
    "- Casuals rides pattern looks like they are more likely than not tourists , and as such it's feasible to create a membership for tourists \n",
    "- Thus, members use the Bikes for office commute primarily. \n",
    "- Cyclistic can offer a discount on docked bikes for longer ride lengths\n",
    "\n",
    "### As such, seasonal discount coupons in targeted locations and targeting both members and casual riders would be the most effective way to increase revenue."
   ]
  },
  {
   "attachments": {},
   "cell_type": "markdown",
   "metadata": {},
   "source": [
    "## Thank You "
   ]
  }
 ],
 "metadata": {
  "language_info": {
   "name": "python"
  },
  "orig_nbformat": 4
 },
 "nbformat": 4,
 "nbformat_minor": 2
}
