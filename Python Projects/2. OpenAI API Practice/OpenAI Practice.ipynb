{
 "cells": [
  {
   "cell_type": "markdown",
   "id": "d7d71752-8246-4a40-bf19-f9df639b3303",
   "metadata": {},
   "source": [
    "# Planning a Trip to Paris with OpenAI API"
   ]
  },
  {
   "cell_type": "markdown",
   "id": "bf3d79ea-6744-42bc-b814-e3ffc55336fa",
   "metadata": {},
   "source": [
    "### Introduction \n",
    "\n",
    "As a distinguished AI Developer, you've been selected by Peterman Reality Tours, an internationally acclaimed tourism company, to undertake an influential project. This project requires you to harness the potential of OpenAI's API, specifically using its state-of-the-art language model, GPT-3.5 Turbo, to create an AI-powered travel guide for the culturally rich city of Paris.\n",
    "\n",
    "Your creation will become a virtual Parisian expert, delivering valuable insights into the city's iconic landmarks and hidden treasures. The AI will respond intelligently to a set of common questions, providing a more engaging and immersive travel planning experience for the clientele of Peterman Reality Tours.\n",
    "\n",
    "The ultimate aspiration is a user-friendly, AI-driven travel guide that significantly enhances the exploration of Paris. This project will not only improve Peterman Reality Tours' customer service, but also solidify their place at the forefront of AI-enhanced innovation in the global tourism industry. Users will be able to pre-define their questions and receive well-informed answers from the AI, making the travel planning process seamless and intuitive."
   ]
  },
  {
   "cell_type": "markdown",
   "id": "8b508a4f-57cd-4202-885d-1b86e1cb6d99",
   "metadata": {},
   "source": [
    "### Problem\n",
    "\n",
    "Create a model variable to use OpenAI's 'gpt-3.5-turbo' model, to find answers to the following questions:\n",
    "\n",
    "How far away is the Louvre from the Eiffel Tower (in miles) if you are driving?\n",
    "Where is the Arc de Triomphe?\n",
    "What are the must-see artworks at the Louvre Museum?\n",
    "\n",
    "Limit the maximum number of tokens to 100 so that the model's responses are concise, and set temperature to 0.0.\n",
    "\n",
    "Store the questions and the responses in a list called conversation. Each item in the list should be a dictionary with two keys: role and content. The role key should have one of three values: 'system', 'user', or 'assistant'. The role in the first dictionary of conversation should be 'system'. The content key should have a string value representing a dialogue related to the assigned role.\n",
    "\n",
    "Print each generated response to the console as it is produced for users to read."
   ]
  },
  {
   "cell_type": "code",
   "execution_count": null,
   "id": "18ad3b14-f493-4695-91d2-b34d64cc2188",
   "metadata": {},
   "outputs": [],
   "source": [
    "# Solution\n",
    "\n",
    "import os\n",
    "import openai\n",
    "openai.api_key = os.environ[\"OPENAI\"]\n",
    "\n",
    "model = \"gpt-3.5-turbo\"\n",
    "\n",
    "conversation =[{\n",
    "    \"role\": \"system\",\n",
    "    \"content\":\"You are a travel guide designed to provide information about landmarks that tourists should explore in Paris. You speak in a concise manner.\"},\n",
    "    {\"role\":\"user\",\n",
    "    \"content\":\"What is the most famous landmark in Paris?\"},\n",
    "    {\"role\":\"assistant\",\n",
    "    \"content\":\"The most famous landmark in Paris is the Eiffel Tower.\"},\n",
    "    ]\n",
    "\n",
    "questions = [\n",
    "    \"How far away is the Louvre from the Eiffel Tower (in driving miles)?\",\n",
    "    \"Where is the Arc de Triomphe?\",\n",
    "    \"What are the must-see artworks at the Louvre Museum?\"\n",
    "]\n",
    "\n",
    "for question in questions:\n",
    "\n",
    "    input_dict = {\"role\": \"user\",\n",
    "                  \"content\": question}\n",
    "    \n",
    "    conversation.append(input_dict)  \n",
    "\n",
    "    response = openai.ChatCompletion.create(\n",
    "        model=model,\n",
    "        messages=conversation,\n",
    "        temperature=0.0,\n",
    "        max_tokens=100\n",
    "    )\n",
    "    \n",
    "    resp = response.choices[0]['message']['content']\n",
    "    print(resp)\n",
    "\n",
    "    resp_dict = {\"role\": \"assistant\",\n",
    "                 \"content\": resp}\n",
    "    \n",
    "    conversation.append(resp_dict)"
   ]
  },
  {
   "cell_type": "markdown",
   "id": "e395d596-901e-4544-8d16-c85bcefa53f9",
   "metadata": {},
   "source": [
    "# Enriching Stock Market Data using the OpenAI API"
   ]
  },
  {
   "cell_type": "markdown",
   "id": "51a0496e-4326-46da-a05d-1165401b2be2",
   "metadata": {},
   "source": [
    "### Introduction \n",
    "\n",
    "\n",
    "The Nasdaq-100 is a stock market index made up of 101 equity securities issued by 100 of the largest non-financial companies listed on the Nasdaq stock exchange. It helps investors compare stock prices with previous prices to determine market performance.\n",
    "\n",
    "In this project you are provided with two CSV files containing Nasdaq-100 stock information:\n",
    "- _**nasdaq100.csv**_: contains information about companies in the index such as symbol, name, etc.\n",
    "- _**nasdaq100_price_change.csv**_: contains price changes per stock across periods including (but not limited to) one day, five days, one month, six months, one year, etc.\n",
    "\n",
    "As an AI developer, you will leverage the OpenAI API to classify companies into sectors and produce a summary of sector and company performance for this year."
   ]
  },
  {
   "cell_type": "markdown",
   "id": "ce4ff50c-f5c5-4191-8d71-1c7d35fe37bc",
   "metadata": {},
   "source": [
    "#### CSV with Nasdaq-100 stock data\n",
    "\n",
    "In this project, you have available two CSV files `nasdaq100.csv` and `nasdaq100_price_change.csv`.\n",
    "\n",
    "### nasdaq100.csv\n",
    "\n",
    "```py\n",
    "symbol,name,headQuarter,dateFirstAdded,cik,founded\n",
    "AAPL,Apple Inc.,\"Cupertino, CA\",,0000320193,1976-04-01\n",
    "ABNB,Airbnb,\"San Francisco, CA\",,0001559720,2008-08-01\n",
    "ADBE,Adobe Inc.,\"San Jose, CA\",,0000796343,1982-12-01\n",
    "ADI,Analog Devices,\"Wilmington, MA\",,0000006281,1965-01-01\n",
    "...\n",
    "```\n",
    "\n",
    "### nasdaq100_price_change.csv\n",
    "\n",
    "```py\n",
    "symbol,1D,5D,1M,3M,6M,ytd,1Y,3Y,5Y,10Y,max\n",
    "AAPL,-1.7254,-8.30086,-6.20411,3.042,15.64824,42.99992,8.47941,60.96299,245.42031,976.99441,139245.53954\n",
    "ABNB,2.1617,-2.21919,9.88336,19.43286,19.64241,68.66902,23.64013,-1.04347,-1.04347,-1.04347,-1.04347\n",
    "ADBE,0.5409,-1.77817,9.16191,52.0465,38.01522,57.22723,21.96206,17.83037,109.05718,1024.69214,251030.66399\n",
    "ADI,0.9291,-4.03352,2.58486,3.65887,5.01602,17.02062,8.09735,63.42847,92.81874,286.77518,26012.63736\n",
    "...\n",
    "```"
   ]
  },
  {
   "cell_type": "markdown",
   "id": "b54d47d4-604b-459e-b4ff-2e0110678ff9",
   "metadata": {},
   "source": [
    "### Problem\n",
    "\n",
    "Create a pandas DataFrame called nasdaq100 containing the nasdaq100.csv file and add a column called \"ytd\" containing year to date (YTD) performance for each company.\n",
    "Use the OpenAI API to classify each stock into a sector, saving as a new column in the nasdaq100 DataFrame called \"sector\" with the following values: Technology, Consumer Cyclical, Industrials, Utilities, Healthcare, Communication, Energy, Consumer Defensive, Real Estate, or Financial.\n",
    "Use the OpenAI API to provide summary information about Nasdaq-100 stock performance YTD, recommending the three best sectors and three or more companies per sector, storing as a variable called stock_recommendations.\n"
   ]
  },
  {
   "cell_type": "code",
   "execution_count": null,
   "id": "21473acb-ba47-4993-b12f-d3e57ad59a42",
   "metadata": {},
   "outputs": [],
   "source": [
    "# Solution \n",
    "import os\n",
    "import pandas as pd\n",
    "import openai\n",
    "openai.api_key = os.environ[\"OPENAI_API_KEY\"]\n",
    "\n",
    "nasdaq100 = pd.read_csv(\"N100_csv/nasdaq100.csv\")\n",
    "price_change = pd.read_csv(\"N100_csv/nasdaq100_price_change.csv\")\n",
    "\n",
    "nasdaq100 = nasdaq100.merge(price_change[[\"symbol\", \"ytd\"]], on=\"symbol\", how=\"inner\")\n",
    "\n",
    "nasdaq100.head()\n",
    "\n",
    "# Creating a prompt to enrich nasdaq100 using OpenAI\n",
    "prompt = '''Classify company {company} into one of the following sectors. Answer only with the sector name:\n",
    "    Technology, Consumer Cyclical, Industrials, Utilities, Healthcare, Communication, Energy, Consumer Defensive, Real Estate, Financial.\n",
    "'''\n",
    "\n",
    "# Looping through the NASDAQ companies\n",
    "for company in nasdaq100[\"symbol\"]:\n",
    "    # Creating a response from ChatGPT\n",
    "    response = openai.ChatCompletion.create(\n",
    "        model=\"gpt-3.5-turbo\",\n",
    "        messages=[{ \"role\": \"user\", \"content\": prompt.format(company=company)}],\n",
    "        temperature=0.0,\n",
    "    )\n",
    "    # Storing the output as a variable called sector\n",
    "    sector = response['choices'][0]['message']['content']\n",
    "    \n",
    "    # Adding the sector for the corresponding company\n",
    "    nasdaq100.loc[nasdaq100[\"symbol\"] == company, \"Sector\"] = sector\n",
    "    \n",
    "# Counting the number of sectors\n",
    "nasdaq100[\"Sector\"].value_counts()\n",
    "\n",
    "# Prompt to get stock recommendations\n",
    "prompt = '''Provide summary information about Nasdaq-100 stock performance year to date (YTD), recommending the three best sectors               and three or more companies per sector.\n",
    "            Company data: {company_data} \n",
    "'''\n",
    "\n",
    "# Getting the model response\n",
    "response = openai.ChatCompletion.create(\n",
    "        model=\"gpt-3.5-turbo\",\n",
    "        messages=[{ \"role\": \"user\", \"content\": prompt.format(company_data=nasdaq100)}],\n",
    "        temperature=0.0,\n",
    "    )\n",
    "\n",
    "# Storing the output as a variable and printing the recommendations\n",
    "stock_recommendations = response['choices'][0]['message']['content']\n",
    "print(stock_recommendations)"
   ]
  }
 ],
 "metadata": {
  "kernelspec": {
   "display_name": "Python 3 (ipykernel)",
   "language": "python",
   "name": "python3"
  },
  "language_info": {
   "codemirror_mode": {
    "name": "ipython",
    "version": 3
   },
   "file_extension": ".py",
   "mimetype": "text/x-python",
   "name": "python",
   "nbconvert_exporter": "python",
   "pygments_lexer": "ipython3",
   "version": "3.10.13"
  }
 },
 "nbformat": 4,
 "nbformat_minor": 5
}
